{
 "cells": [
  {
   "cell_type": "code",
   "execution_count": 3,
   "metadata": {
    "collapsed": true
   },
   "outputs": [],
   "source": [
    "import pandas as pd\n",
    "import numpy as np"
   ]
  },
  {
   "cell_type": "markdown",
   "source": [
    "### Tworzenie DataFrame"
   ],
   "metadata": {
    "collapsed": false
   }
  },
  {
   "cell_type": "code",
   "execution_count": 4,
   "outputs": [],
   "source": [
    "arr2d = np.array([[1, 2, 3], [4, 5, 6]])"
   ],
   "metadata": {
    "collapsed": false
   }
  },
  {
   "cell_type": "code",
   "execution_count": 5,
   "outputs": [
    {
     "data": {
      "text/plain": "   0  1  2\n0  1  2  3\n1  4  5  6",
      "text/html": "<div>\n<style scoped>\n    .dataframe tbody tr th:only-of-type {\n        vertical-align: middle;\n    }\n\n    .dataframe tbody tr th {\n        vertical-align: top;\n    }\n\n    .dataframe thead th {\n        text-align: right;\n    }\n</style>\n<table border=\"1\" class=\"dataframe\">\n  <thead>\n    <tr style=\"text-align: right;\">\n      <th></th>\n      <th>0</th>\n      <th>1</th>\n      <th>2</th>\n    </tr>\n  </thead>\n  <tbody>\n    <tr>\n      <th>0</th>\n      <td>1</td>\n      <td>2</td>\n      <td>3</td>\n    </tr>\n    <tr>\n      <th>1</th>\n      <td>4</td>\n      <td>5</td>\n      <td>6</td>\n    </tr>\n  </tbody>\n</table>\n</div>"
     },
     "execution_count": 5,
     "metadata": {},
     "output_type": "execute_result"
    }
   ],
   "source": [
    "pd.DataFrame(arr2d)"
   ],
   "metadata": {
    "collapsed": false
   }
  },
  {
   "cell_type": "code",
   "execution_count": 6,
   "outputs": [
    {
     "data": {
      "text/plain": "   a  b  c\n0  1  2  3\n1  4  5  6",
      "text/html": "<div>\n<style scoped>\n    .dataframe tbody tr th:only-of-type {\n        vertical-align: middle;\n    }\n\n    .dataframe tbody tr th {\n        vertical-align: top;\n    }\n\n    .dataframe thead th {\n        text-align: right;\n    }\n</style>\n<table border=\"1\" class=\"dataframe\">\n  <thead>\n    <tr style=\"text-align: right;\">\n      <th></th>\n      <th>a</th>\n      <th>b</th>\n      <th>c</th>\n    </tr>\n  </thead>\n  <tbody>\n    <tr>\n      <th>0</th>\n      <td>1</td>\n      <td>2</td>\n      <td>3</td>\n    </tr>\n    <tr>\n      <th>1</th>\n      <td>4</td>\n      <td>5</td>\n      <td>6</td>\n    </tr>\n  </tbody>\n</table>\n</div>"
     },
     "execution_count": 6,
     "metadata": {},
     "output_type": "execute_result"
    }
   ],
   "source": [
    "pd.DataFrame(arr2d, columns=['a', 'b', 'c'])"
   ],
   "metadata": {
    "collapsed": false
   }
  },
  {
   "cell_type": "code",
   "execution_count": 7,
   "outputs": [
    {
     "data": {
      "text/plain": "    a  b  c\nw1  1  2  3\nw2  4  5  6",
      "text/html": "<div>\n<style scoped>\n    .dataframe tbody tr th:only-of-type {\n        vertical-align: middle;\n    }\n\n    .dataframe tbody tr th {\n        vertical-align: top;\n    }\n\n    .dataframe thead th {\n        text-align: right;\n    }\n</style>\n<table border=\"1\" class=\"dataframe\">\n  <thead>\n    <tr style=\"text-align: right;\">\n      <th></th>\n      <th>a</th>\n      <th>b</th>\n      <th>c</th>\n    </tr>\n  </thead>\n  <tbody>\n    <tr>\n      <th>w1</th>\n      <td>1</td>\n      <td>2</td>\n      <td>3</td>\n    </tr>\n    <tr>\n      <th>w2</th>\n      <td>4</td>\n      <td>5</td>\n      <td>6</td>\n    </tr>\n  </tbody>\n</table>\n</div>"
     },
     "execution_count": 7,
     "metadata": {},
     "output_type": "execute_result"
    }
   ],
   "source": [
    "pd.DataFrame(arr2d, columns=['a', 'b', 'c'], index=['w1', 'w2'])"
   ],
   "metadata": {
    "collapsed": false
   }
  },
  {
   "cell_type": "markdown",
   "source": [
    "### Wybór elementów"
   ],
   "metadata": {
    "collapsed": false
   }
  },
  {
   "cell_type": "code",
   "execution_count": 9,
   "outputs": [],
   "source": [
    "np.random.seed(5)\n",
    "arr_rnd = np.random.rand(5, 5)"
   ],
   "metadata": {
    "collapsed": false
   }
  },
  {
   "cell_type": "code",
   "execution_count": 11,
   "outputs": [
    {
     "data": {
      "text/plain": "         C1        C2        C3        C4        C5\nA  0.221993  0.870732  0.206719  0.918611  0.488411\nB  0.611744  0.765908  0.518418  0.296801  0.187721\nC  0.080741  0.738440  0.441309  0.158310  0.879937\nD  0.274086  0.414235  0.296080  0.628788  0.579838\nE  0.599929  0.265819  0.284686  0.253588  0.327564",
      "text/html": "<div>\n<style scoped>\n    .dataframe tbody tr th:only-of-type {\n        vertical-align: middle;\n    }\n\n    .dataframe tbody tr th {\n        vertical-align: top;\n    }\n\n    .dataframe thead th {\n        text-align: right;\n    }\n</style>\n<table border=\"1\" class=\"dataframe\">\n  <thead>\n    <tr style=\"text-align: right;\">\n      <th></th>\n      <th>C1</th>\n      <th>C2</th>\n      <th>C3</th>\n      <th>C4</th>\n      <th>C5</th>\n    </tr>\n  </thead>\n  <tbody>\n    <tr>\n      <th>A</th>\n      <td>0.221993</td>\n      <td>0.870732</td>\n      <td>0.206719</td>\n      <td>0.918611</td>\n      <td>0.488411</td>\n    </tr>\n    <tr>\n      <th>B</th>\n      <td>0.611744</td>\n      <td>0.765908</td>\n      <td>0.518418</td>\n      <td>0.296801</td>\n      <td>0.187721</td>\n    </tr>\n    <tr>\n      <th>C</th>\n      <td>0.080741</td>\n      <td>0.738440</td>\n      <td>0.441309</td>\n      <td>0.158310</td>\n      <td>0.879937</td>\n    </tr>\n    <tr>\n      <th>D</th>\n      <td>0.274086</td>\n      <td>0.414235</td>\n      <td>0.296080</td>\n      <td>0.628788</td>\n      <td>0.579838</td>\n    </tr>\n    <tr>\n      <th>E</th>\n      <td>0.599929</td>\n      <td>0.265819</td>\n      <td>0.284686</td>\n      <td>0.253588</td>\n      <td>0.327564</td>\n    </tr>\n  </tbody>\n</table>\n</div>"
     },
     "execution_count": 11,
     "metadata": {},
     "output_type": "execute_result"
    }
   ],
   "source": [
    "df = pd.DataFrame(arr_rnd, index=['A', 'B', 'C', 'D', 'E'], columns=['C1', 'C2', 'C3', 'C4', 'C5'])\n",
    "df"
   ],
   "metadata": {
    "collapsed": false
   }
  },
  {
   "cell_type": "code",
   "execution_count": 12,
   "outputs": [
    {
     "data": {
      "text/plain": "A    0.221993\nB    0.611744\nC    0.080741\nD    0.274086\nE    0.599929\nName: C1, dtype: float64"
     },
     "execution_count": 12,
     "metadata": {},
     "output_type": "execute_result"
    }
   ],
   "source": [
    "df['C1']"
   ],
   "metadata": {
    "collapsed": false
   }
  },
  {
   "cell_type": "code",
   "execution_count": 13,
   "outputs": [
    {
     "data": {
      "text/plain": "         C1        C3\nA  0.221993  0.206719\nB  0.611744  0.518418\nC  0.080741  0.441309\nD  0.274086  0.296080\nE  0.599929  0.284686",
      "text/html": "<div>\n<style scoped>\n    .dataframe tbody tr th:only-of-type {\n        vertical-align: middle;\n    }\n\n    .dataframe tbody tr th {\n        vertical-align: top;\n    }\n\n    .dataframe thead th {\n        text-align: right;\n    }\n</style>\n<table border=\"1\" class=\"dataframe\">\n  <thead>\n    <tr style=\"text-align: right;\">\n      <th></th>\n      <th>C1</th>\n      <th>C3</th>\n    </tr>\n  </thead>\n  <tbody>\n    <tr>\n      <th>A</th>\n      <td>0.221993</td>\n      <td>0.206719</td>\n    </tr>\n    <tr>\n      <th>B</th>\n      <td>0.611744</td>\n      <td>0.518418</td>\n    </tr>\n    <tr>\n      <th>C</th>\n      <td>0.080741</td>\n      <td>0.441309</td>\n    </tr>\n    <tr>\n      <th>D</th>\n      <td>0.274086</td>\n      <td>0.296080</td>\n    </tr>\n    <tr>\n      <th>E</th>\n      <td>0.599929</td>\n      <td>0.284686</td>\n    </tr>\n  </tbody>\n</table>\n</div>"
     },
     "execution_count": 13,
     "metadata": {},
     "output_type": "execute_result"
    }
   ],
   "source": [
    "df[['C1', 'C3']]"
   ],
   "metadata": {
    "collapsed": false
   }
  },
  {
   "cell_type": "code",
   "execution_count": 15,
   "outputs": [
    {
     "data": {
      "text/plain": "         C1        C2        C3        C4        C5     C6New\nA  0.221993  0.870732  0.206719  0.918611  0.488411  1.837222\nB  0.611744  0.765908  0.518418  0.296801  0.187721  0.593601\nC  0.080741  0.738440  0.441309  0.158310  0.879937  0.316620\nD  0.274086  0.414235  0.296080  0.628788  0.579838  1.257576\nE  0.599929  0.265819  0.284686  0.253588  0.327564  0.507176",
      "text/html": "<div>\n<style scoped>\n    .dataframe tbody tr th:only-of-type {\n        vertical-align: middle;\n    }\n\n    .dataframe tbody tr th {\n        vertical-align: top;\n    }\n\n    .dataframe thead th {\n        text-align: right;\n    }\n</style>\n<table border=\"1\" class=\"dataframe\">\n  <thead>\n    <tr style=\"text-align: right;\">\n      <th></th>\n      <th>C1</th>\n      <th>C2</th>\n      <th>C3</th>\n      <th>C4</th>\n      <th>C5</th>\n      <th>C6New</th>\n    </tr>\n  </thead>\n  <tbody>\n    <tr>\n      <th>A</th>\n      <td>0.221993</td>\n      <td>0.870732</td>\n      <td>0.206719</td>\n      <td>0.918611</td>\n      <td>0.488411</td>\n      <td>1.837222</td>\n    </tr>\n    <tr>\n      <th>B</th>\n      <td>0.611744</td>\n      <td>0.765908</td>\n      <td>0.518418</td>\n      <td>0.296801</td>\n      <td>0.187721</td>\n      <td>0.593601</td>\n    </tr>\n    <tr>\n      <th>C</th>\n      <td>0.080741</td>\n      <td>0.738440</td>\n      <td>0.441309</td>\n      <td>0.158310</td>\n      <td>0.879937</td>\n      <td>0.316620</td>\n    </tr>\n    <tr>\n      <th>D</th>\n      <td>0.274086</td>\n      <td>0.414235</td>\n      <td>0.296080</td>\n      <td>0.628788</td>\n      <td>0.579838</td>\n      <td>1.257576</td>\n    </tr>\n    <tr>\n      <th>E</th>\n      <td>0.599929</td>\n      <td>0.265819</td>\n      <td>0.284686</td>\n      <td>0.253588</td>\n      <td>0.327564</td>\n      <td>0.507176</td>\n    </tr>\n  </tbody>\n</table>\n</div>"
     },
     "execution_count": 15,
     "metadata": {},
     "output_type": "execute_result"
    }
   ],
   "source": [
    "df['C6New'] = df['C4'] * 2\n",
    "df"
   ],
   "metadata": {
    "collapsed": false
   }
  },
  {
   "cell_type": "code",
   "execution_count": 16,
   "outputs": [
    {
     "data": {
      "text/plain": "         C1        C3        C4        C5     C6New\nA  0.221993  0.206719  0.918611  0.488411  1.837222\nB  0.611744  0.518418  0.296801  0.187721  0.593601\nC  0.080741  0.441309  0.158310  0.879937  0.316620\nD  0.274086  0.296080  0.628788  0.579838  1.257576\nE  0.599929  0.284686  0.253588  0.327564  0.507176",
      "text/html": "<div>\n<style scoped>\n    .dataframe tbody tr th:only-of-type {\n        vertical-align: middle;\n    }\n\n    .dataframe tbody tr th {\n        vertical-align: top;\n    }\n\n    .dataframe thead th {\n        text-align: right;\n    }\n</style>\n<table border=\"1\" class=\"dataframe\">\n  <thead>\n    <tr style=\"text-align: right;\">\n      <th></th>\n      <th>C1</th>\n      <th>C3</th>\n      <th>C4</th>\n      <th>C5</th>\n      <th>C6New</th>\n    </tr>\n  </thead>\n  <tbody>\n    <tr>\n      <th>A</th>\n      <td>0.221993</td>\n      <td>0.206719</td>\n      <td>0.918611</td>\n      <td>0.488411</td>\n      <td>1.837222</td>\n    </tr>\n    <tr>\n      <th>B</th>\n      <td>0.611744</td>\n      <td>0.518418</td>\n      <td>0.296801</td>\n      <td>0.187721</td>\n      <td>0.593601</td>\n    </tr>\n    <tr>\n      <th>C</th>\n      <td>0.080741</td>\n      <td>0.441309</td>\n      <td>0.158310</td>\n      <td>0.879937</td>\n      <td>0.316620</td>\n    </tr>\n    <tr>\n      <th>D</th>\n      <td>0.274086</td>\n      <td>0.296080</td>\n      <td>0.628788</td>\n      <td>0.579838</td>\n      <td>1.257576</td>\n    </tr>\n    <tr>\n      <th>E</th>\n      <td>0.599929</td>\n      <td>0.284686</td>\n      <td>0.253588</td>\n      <td>0.327564</td>\n      <td>0.507176</td>\n    </tr>\n  </tbody>\n</table>\n</div>"
     },
     "execution_count": 16,
     "metadata": {},
     "output_type": "execute_result"
    }
   ],
   "source": [
    "df.drop('C2', axis=1)  # domyślnie axis jest 0 - etykiety (A,B..)\n"
   ],
   "metadata": {
    "collapsed": false
   }
  },
  {
   "cell_type": "code",
   "execution_count": 17,
   "outputs": [
    {
     "data": {
      "text/plain": "         C1        C2        C3        C4        C5     C6New\nA  0.221993  0.870732  0.206719  0.918611  0.488411  1.837222\nB  0.611744  0.765908  0.518418  0.296801  0.187721  0.593601\nC  0.080741  0.738440  0.441309  0.158310  0.879937  0.316620\nD  0.274086  0.414235  0.296080  0.628788  0.579838  1.257576\nE  0.599929  0.265819  0.284686  0.253588  0.327564  0.507176",
      "text/html": "<div>\n<style scoped>\n    .dataframe tbody tr th:only-of-type {\n        vertical-align: middle;\n    }\n\n    .dataframe tbody tr th {\n        vertical-align: top;\n    }\n\n    .dataframe thead th {\n        text-align: right;\n    }\n</style>\n<table border=\"1\" class=\"dataframe\">\n  <thead>\n    <tr style=\"text-align: right;\">\n      <th></th>\n      <th>C1</th>\n      <th>C2</th>\n      <th>C3</th>\n      <th>C4</th>\n      <th>C5</th>\n      <th>C6New</th>\n    </tr>\n  </thead>\n  <tbody>\n    <tr>\n      <th>A</th>\n      <td>0.221993</td>\n      <td>0.870732</td>\n      <td>0.206719</td>\n      <td>0.918611</td>\n      <td>0.488411</td>\n      <td>1.837222</td>\n    </tr>\n    <tr>\n      <th>B</th>\n      <td>0.611744</td>\n      <td>0.765908</td>\n      <td>0.518418</td>\n      <td>0.296801</td>\n      <td>0.187721</td>\n      <td>0.593601</td>\n    </tr>\n    <tr>\n      <th>C</th>\n      <td>0.080741</td>\n      <td>0.738440</td>\n      <td>0.441309</td>\n      <td>0.158310</td>\n      <td>0.879937</td>\n      <td>0.316620</td>\n    </tr>\n    <tr>\n      <th>D</th>\n      <td>0.274086</td>\n      <td>0.414235</td>\n      <td>0.296080</td>\n      <td>0.628788</td>\n      <td>0.579838</td>\n      <td>1.257576</td>\n    </tr>\n    <tr>\n      <th>E</th>\n      <td>0.599929</td>\n      <td>0.265819</td>\n      <td>0.284686</td>\n      <td>0.253588</td>\n      <td>0.327564</td>\n      <td>0.507176</td>\n    </tr>\n  </tbody>\n</table>\n</div>"
     },
     "execution_count": 17,
     "metadata": {},
     "output_type": "execute_result"
    }
   ],
   "source": [
    "df"
   ],
   "metadata": {
    "collapsed": false
   }
  },
  {
   "cell_type": "code",
   "execution_count": 18,
   "outputs": [],
   "source": [
    "df = df.drop('C2', axis=1)  # dopiero jak przypiszemy do df działanie, to tabela sie zmienia na stałe"
   ],
   "metadata": {
    "collapsed": false
   }
  },
  {
   "cell_type": "code",
   "execution_count": 19,
   "outputs": [
    {
     "data": {
      "text/plain": "         C1        C3        C4        C5     C6New\nA  0.221993  0.206719  0.918611  0.488411  1.837222\nB  0.611744  0.518418  0.296801  0.187721  0.593601\nC  0.080741  0.441309  0.158310  0.879937  0.316620\nD  0.274086  0.296080  0.628788  0.579838  1.257576\nE  0.599929  0.284686  0.253588  0.327564  0.507176",
      "text/html": "<div>\n<style scoped>\n    .dataframe tbody tr th:only-of-type {\n        vertical-align: middle;\n    }\n\n    .dataframe tbody tr th {\n        vertical-align: top;\n    }\n\n    .dataframe thead th {\n        text-align: right;\n    }\n</style>\n<table border=\"1\" class=\"dataframe\">\n  <thead>\n    <tr style=\"text-align: right;\">\n      <th></th>\n      <th>C1</th>\n      <th>C3</th>\n      <th>C4</th>\n      <th>C5</th>\n      <th>C6New</th>\n    </tr>\n  </thead>\n  <tbody>\n    <tr>\n      <th>A</th>\n      <td>0.221993</td>\n      <td>0.206719</td>\n      <td>0.918611</td>\n      <td>0.488411</td>\n      <td>1.837222</td>\n    </tr>\n    <tr>\n      <th>B</th>\n      <td>0.611744</td>\n      <td>0.518418</td>\n      <td>0.296801</td>\n      <td>0.187721</td>\n      <td>0.593601</td>\n    </tr>\n    <tr>\n      <th>C</th>\n      <td>0.080741</td>\n      <td>0.441309</td>\n      <td>0.158310</td>\n      <td>0.879937</td>\n      <td>0.316620</td>\n    </tr>\n    <tr>\n      <th>D</th>\n      <td>0.274086</td>\n      <td>0.296080</td>\n      <td>0.628788</td>\n      <td>0.579838</td>\n      <td>1.257576</td>\n    </tr>\n    <tr>\n      <th>E</th>\n      <td>0.599929</td>\n      <td>0.284686</td>\n      <td>0.253588</td>\n      <td>0.327564</td>\n      <td>0.507176</td>\n    </tr>\n  </tbody>\n</table>\n</div>"
     },
     "execution_count": 19,
     "metadata": {},
     "output_type": "execute_result"
    }
   ],
   "source": [
    "df"
   ],
   "metadata": {
    "collapsed": false
   }
  },
  {
   "cell_type": "code",
   "execution_count": 20,
   "outputs": [
    {
     "data": {
      "text/plain": "         C1        C3        C4        C5     C6New\nA  0.221993  0.206719  0.918611  0.488411  1.837222\nB  0.611744  0.518418  0.296801  0.187721  0.593601\nD  0.274086  0.296080  0.628788  0.579838  1.257576\nE  0.599929  0.284686  0.253588  0.327564  0.507176",
      "text/html": "<div>\n<style scoped>\n    .dataframe tbody tr th:only-of-type {\n        vertical-align: middle;\n    }\n\n    .dataframe tbody tr th {\n        vertical-align: top;\n    }\n\n    .dataframe thead th {\n        text-align: right;\n    }\n</style>\n<table border=\"1\" class=\"dataframe\">\n  <thead>\n    <tr style=\"text-align: right;\">\n      <th></th>\n      <th>C1</th>\n      <th>C3</th>\n      <th>C4</th>\n      <th>C5</th>\n      <th>C6New</th>\n    </tr>\n  </thead>\n  <tbody>\n    <tr>\n      <th>A</th>\n      <td>0.221993</td>\n      <td>0.206719</td>\n      <td>0.918611</td>\n      <td>0.488411</td>\n      <td>1.837222</td>\n    </tr>\n    <tr>\n      <th>B</th>\n      <td>0.611744</td>\n      <td>0.518418</td>\n      <td>0.296801</td>\n      <td>0.187721</td>\n      <td>0.593601</td>\n    </tr>\n    <tr>\n      <th>D</th>\n      <td>0.274086</td>\n      <td>0.296080</td>\n      <td>0.628788</td>\n      <td>0.579838</td>\n      <td>1.257576</td>\n    </tr>\n    <tr>\n      <th>E</th>\n      <td>0.599929</td>\n      <td>0.284686</td>\n      <td>0.253588</td>\n      <td>0.327564</td>\n      <td>0.507176</td>\n    </tr>\n  </tbody>\n</table>\n</div>"
     },
     "execution_count": 20,
     "metadata": {},
     "output_type": "execute_result"
    }
   ],
   "source": [
    "df.drop('C')  # domyślnie axis 0 , wiec usuwamy wiersz"
   ],
   "metadata": {
    "collapsed": false
   }
  },
  {
   "cell_type": "code",
   "execution_count": 25,
   "outputs": [
    {
     "data": {
      "text/plain": "C1       0.221993\nC3       0.206719\nC4       0.918611\nC5       0.488411\nC6New    1.837222\nName: A, dtype: float64"
     },
     "execution_count": 25,
     "metadata": {},
     "output_type": "execute_result"
    }
   ],
   "source": [
    "df.loc['A']"
   ],
   "metadata": {
    "collapsed": false
   }
  },
  {
   "cell_type": "code",
   "execution_count": 22,
   "outputs": [
    {
     "data": {
      "text/plain": "         C1        C3        C4        C5     C6New\nA  0.221993  0.206719  0.918611  0.488411  1.837222\nD  0.274086  0.296080  0.628788  0.579838  1.257576",
      "text/html": "<div>\n<style scoped>\n    .dataframe tbody tr th:only-of-type {\n        vertical-align: middle;\n    }\n\n    .dataframe tbody tr th {\n        vertical-align: top;\n    }\n\n    .dataframe thead th {\n        text-align: right;\n    }\n</style>\n<table border=\"1\" class=\"dataframe\">\n  <thead>\n    <tr style=\"text-align: right;\">\n      <th></th>\n      <th>C1</th>\n      <th>C3</th>\n      <th>C4</th>\n      <th>C5</th>\n      <th>C6New</th>\n    </tr>\n  </thead>\n  <tbody>\n    <tr>\n      <th>A</th>\n      <td>0.221993</td>\n      <td>0.206719</td>\n      <td>0.918611</td>\n      <td>0.488411</td>\n      <td>1.837222</td>\n    </tr>\n    <tr>\n      <th>D</th>\n      <td>0.274086</td>\n      <td>0.296080</td>\n      <td>0.628788</td>\n      <td>0.579838</td>\n      <td>1.257576</td>\n    </tr>\n  </tbody>\n</table>\n</div>"
     },
     "execution_count": 22,
     "metadata": {},
     "output_type": "execute_result"
    }
   ],
   "source": [
    "df.loc[['A', 'D']]"
   ],
   "metadata": {
    "collapsed": false
   }
  },
  {
   "cell_type": "code",
   "execution_count": 23,
   "outputs": [
    {
     "data": {
      "text/plain": "0.20671915533942642"
     },
     "execution_count": 23,
     "metadata": {},
     "output_type": "execute_result"
    }
   ],
   "source": [
    "df.loc['A', 'C3']"
   ],
   "metadata": {
    "collapsed": false
   }
  },
  {
   "cell_type": "code",
   "execution_count": 26,
   "outputs": [
    {
     "data": {
      "text/plain": "         C3     C6New\nA  0.206719  1.837222\nB  0.518418  0.593601",
      "text/html": "<div>\n<style scoped>\n    .dataframe tbody tr th:only-of-type {\n        vertical-align: middle;\n    }\n\n    .dataframe tbody tr th {\n        vertical-align: top;\n    }\n\n    .dataframe thead th {\n        text-align: right;\n    }\n</style>\n<table border=\"1\" class=\"dataframe\">\n  <thead>\n    <tr style=\"text-align: right;\">\n      <th></th>\n      <th>C3</th>\n      <th>C6New</th>\n    </tr>\n  </thead>\n  <tbody>\n    <tr>\n      <th>A</th>\n      <td>0.206719</td>\n      <td>1.837222</td>\n    </tr>\n    <tr>\n      <th>B</th>\n      <td>0.518418</td>\n      <td>0.593601</td>\n    </tr>\n  </tbody>\n</table>\n</div>"
     },
     "execution_count": 26,
     "metadata": {},
     "output_type": "execute_result"
    }
   ],
   "source": [
    "df.loc[['A', 'B'], ['C3', 'C6New']]"
   ],
   "metadata": {
    "collapsed": false
   }
  },
  {
   "cell_type": "markdown",
   "source": [
    "Wybór warunkowy"
   ],
   "metadata": {
    "collapsed": false
   }
  },
  {
   "cell_type": "code",
   "execution_count": 27,
   "outputs": [
    {
     "data": {
      "text/plain": "         C1        C3        C4        C5     C6New\nA  0.221993  0.206719  0.918611  0.488411  1.837222\nB  0.611744  0.518418  0.296801  0.187721  0.593601\nC  0.080741  0.441309  0.158310  0.879937  0.316620\nD  0.274086  0.296080  0.628788  0.579838  1.257576\nE  0.599929  0.284686  0.253588  0.327564  0.507176",
      "text/html": "<div>\n<style scoped>\n    .dataframe tbody tr th:only-of-type {\n        vertical-align: middle;\n    }\n\n    .dataframe tbody tr th {\n        vertical-align: top;\n    }\n\n    .dataframe thead th {\n        text-align: right;\n    }\n</style>\n<table border=\"1\" class=\"dataframe\">\n  <thead>\n    <tr style=\"text-align: right;\">\n      <th></th>\n      <th>C1</th>\n      <th>C3</th>\n      <th>C4</th>\n      <th>C5</th>\n      <th>C6New</th>\n    </tr>\n  </thead>\n  <tbody>\n    <tr>\n      <th>A</th>\n      <td>0.221993</td>\n      <td>0.206719</td>\n      <td>0.918611</td>\n      <td>0.488411</td>\n      <td>1.837222</td>\n    </tr>\n    <tr>\n      <th>B</th>\n      <td>0.611744</td>\n      <td>0.518418</td>\n      <td>0.296801</td>\n      <td>0.187721</td>\n      <td>0.593601</td>\n    </tr>\n    <tr>\n      <th>C</th>\n      <td>0.080741</td>\n      <td>0.441309</td>\n      <td>0.158310</td>\n      <td>0.879937</td>\n      <td>0.316620</td>\n    </tr>\n    <tr>\n      <th>D</th>\n      <td>0.274086</td>\n      <td>0.296080</td>\n      <td>0.628788</td>\n      <td>0.579838</td>\n      <td>1.257576</td>\n    </tr>\n    <tr>\n      <th>E</th>\n      <td>0.599929</td>\n      <td>0.284686</td>\n      <td>0.253588</td>\n      <td>0.327564</td>\n      <td>0.507176</td>\n    </tr>\n  </tbody>\n</table>\n</div>"
     },
     "execution_count": 27,
     "metadata": {},
     "output_type": "execute_result"
    }
   ],
   "source": [
    "df"
   ],
   "metadata": {
    "collapsed": false
   }
  },
  {
   "cell_type": "code",
   "execution_count": 28,
   "outputs": [
    {
     "data": {
      "text/plain": "      C1     C3     C4     C5  C6New\nA  False  False   True  False   True\nB   True   True  False  False   True\nC  False  False  False   True  False\nD  False  False   True   True   True\nE   True  False  False  False   True",
      "text/html": "<div>\n<style scoped>\n    .dataframe tbody tr th:only-of-type {\n        vertical-align: middle;\n    }\n\n    .dataframe tbody tr th {\n        vertical-align: top;\n    }\n\n    .dataframe thead th {\n        text-align: right;\n    }\n</style>\n<table border=\"1\" class=\"dataframe\">\n  <thead>\n    <tr style=\"text-align: right;\">\n      <th></th>\n      <th>C1</th>\n      <th>C3</th>\n      <th>C4</th>\n      <th>C5</th>\n      <th>C6New</th>\n    </tr>\n  </thead>\n  <tbody>\n    <tr>\n      <th>A</th>\n      <td>False</td>\n      <td>False</td>\n      <td>True</td>\n      <td>False</td>\n      <td>True</td>\n    </tr>\n    <tr>\n      <th>B</th>\n      <td>True</td>\n      <td>True</td>\n      <td>False</td>\n      <td>False</td>\n      <td>True</td>\n    </tr>\n    <tr>\n      <th>C</th>\n      <td>False</td>\n      <td>False</td>\n      <td>False</td>\n      <td>True</td>\n      <td>False</td>\n    </tr>\n    <tr>\n      <th>D</th>\n      <td>False</td>\n      <td>False</td>\n      <td>True</td>\n      <td>True</td>\n      <td>True</td>\n    </tr>\n    <tr>\n      <th>E</th>\n      <td>True</td>\n      <td>False</td>\n      <td>False</td>\n      <td>False</td>\n      <td>True</td>\n    </tr>\n  </tbody>\n</table>\n</div>"
     },
     "execution_count": 28,
     "metadata": {},
     "output_type": "execute_result"
    }
   ],
   "source": [
    "df > 0.5"
   ],
   "metadata": {
    "collapsed": false
   }
  },
  {
   "cell_type": "code",
   "execution_count": 29,
   "outputs": [
    {
     "data": {
      "text/plain": "         C1        C3        C4        C5     C6New\nA       NaN       NaN  0.918611       NaN  1.837222\nB  0.611744  0.518418       NaN       NaN  0.593601\nC       NaN       NaN       NaN  0.879937       NaN\nD       NaN       NaN  0.628788  0.579838  1.257576\nE  0.599929       NaN       NaN       NaN  0.507176",
      "text/html": "<div>\n<style scoped>\n    .dataframe tbody tr th:only-of-type {\n        vertical-align: middle;\n    }\n\n    .dataframe tbody tr th {\n        vertical-align: top;\n    }\n\n    .dataframe thead th {\n        text-align: right;\n    }\n</style>\n<table border=\"1\" class=\"dataframe\">\n  <thead>\n    <tr style=\"text-align: right;\">\n      <th></th>\n      <th>C1</th>\n      <th>C3</th>\n      <th>C4</th>\n      <th>C5</th>\n      <th>C6New</th>\n    </tr>\n  </thead>\n  <tbody>\n    <tr>\n      <th>A</th>\n      <td>NaN</td>\n      <td>NaN</td>\n      <td>0.918611</td>\n      <td>NaN</td>\n      <td>1.837222</td>\n    </tr>\n    <tr>\n      <th>B</th>\n      <td>0.611744</td>\n      <td>0.518418</td>\n      <td>NaN</td>\n      <td>NaN</td>\n      <td>0.593601</td>\n    </tr>\n    <tr>\n      <th>C</th>\n      <td>NaN</td>\n      <td>NaN</td>\n      <td>NaN</td>\n      <td>0.879937</td>\n      <td>NaN</td>\n    </tr>\n    <tr>\n      <th>D</th>\n      <td>NaN</td>\n      <td>NaN</td>\n      <td>0.628788</td>\n      <td>0.579838</td>\n      <td>1.257576</td>\n    </tr>\n    <tr>\n      <th>E</th>\n      <td>0.599929</td>\n      <td>NaN</td>\n      <td>NaN</td>\n      <td>NaN</td>\n      <td>0.507176</td>\n    </tr>\n  </tbody>\n</table>\n</div>"
     },
     "execution_count": 29,
     "metadata": {},
     "output_type": "execute_result"
    }
   ],
   "source": [
    "df[df > 0.5]"
   ],
   "metadata": {
    "collapsed": false
   }
  },
  {
   "cell_type": "code",
   "execution_count": 30,
   "outputs": [
    {
     "data": {
      "text/plain": "         C1        C3        C4        C5    C6New\nA  0.221993  0.206719       NaN       NaN      NaN\nB       NaN       NaN  0.296801       NaN      NaN\nC       NaN       NaN       NaN       NaN  0.31662\nD  0.274086  0.296080       NaN       NaN      NaN\nE       NaN  0.284686  0.253588  0.327564      NaN",
      "text/html": "<div>\n<style scoped>\n    .dataframe tbody tr th:only-of-type {\n        vertical-align: middle;\n    }\n\n    .dataframe tbody tr th {\n        vertical-align: top;\n    }\n\n    .dataframe thead th {\n        text-align: right;\n    }\n</style>\n<table border=\"1\" class=\"dataframe\">\n  <thead>\n    <tr style=\"text-align: right;\">\n      <th></th>\n      <th>C1</th>\n      <th>C3</th>\n      <th>C4</th>\n      <th>C5</th>\n      <th>C6New</th>\n    </tr>\n  </thead>\n  <tbody>\n    <tr>\n      <th>A</th>\n      <td>0.221993</td>\n      <td>0.206719</td>\n      <td>NaN</td>\n      <td>NaN</td>\n      <td>NaN</td>\n    </tr>\n    <tr>\n      <th>B</th>\n      <td>NaN</td>\n      <td>NaN</td>\n      <td>0.296801</td>\n      <td>NaN</td>\n      <td>NaN</td>\n    </tr>\n    <tr>\n      <th>C</th>\n      <td>NaN</td>\n      <td>NaN</td>\n      <td>NaN</td>\n      <td>NaN</td>\n      <td>0.31662</td>\n    </tr>\n    <tr>\n      <th>D</th>\n      <td>0.274086</td>\n      <td>0.296080</td>\n      <td>NaN</td>\n      <td>NaN</td>\n      <td>NaN</td>\n    </tr>\n    <tr>\n      <th>E</th>\n      <td>NaN</td>\n      <td>0.284686</td>\n      <td>0.253588</td>\n      <td>0.327564</td>\n      <td>NaN</td>\n    </tr>\n  </tbody>\n</table>\n</div>"
     },
     "execution_count": 30,
     "metadata": {},
     "output_type": "execute_result"
    }
   ],
   "source": [
    "df[(df > 0.2) & (df < 0.4)]"
   ],
   "metadata": {
    "collapsed": false
   }
  },
  {
   "cell_type": "code",
   "execution_count": 32,
   "outputs": [
    {
     "data": {
      "text/plain": "         C1        C3        C4        C5     C6New\nA  0.221993  0.206719  0.918611  0.488411  1.837222\nC  0.080741  0.441309  0.158310  0.879937  0.316620\nD  0.274086  0.296080  0.628788  0.579838  1.257576",
      "text/html": "<div>\n<style scoped>\n    .dataframe tbody tr th:only-of-type {\n        vertical-align: middle;\n    }\n\n    .dataframe tbody tr th {\n        vertical-align: top;\n    }\n\n    .dataframe thead th {\n        text-align: right;\n    }\n</style>\n<table border=\"1\" class=\"dataframe\">\n  <thead>\n    <tr style=\"text-align: right;\">\n      <th></th>\n      <th>C1</th>\n      <th>C3</th>\n      <th>C4</th>\n      <th>C5</th>\n      <th>C6New</th>\n    </tr>\n  </thead>\n  <tbody>\n    <tr>\n      <th>A</th>\n      <td>0.221993</td>\n      <td>0.206719</td>\n      <td>0.918611</td>\n      <td>0.488411</td>\n      <td>1.837222</td>\n    </tr>\n    <tr>\n      <th>C</th>\n      <td>0.080741</td>\n      <td>0.441309</td>\n      <td>0.158310</td>\n      <td>0.879937</td>\n      <td>0.316620</td>\n    </tr>\n    <tr>\n      <th>D</th>\n      <td>0.274086</td>\n      <td>0.296080</td>\n      <td>0.628788</td>\n      <td>0.579838</td>\n      <td>1.257576</td>\n    </tr>\n  </tbody>\n</table>\n</div>"
     },
     "execution_count": 32,
     "metadata": {},
     "output_type": "execute_result"
    }
   ],
   "source": [
    "df[df['C1'] < 0.5]"
   ],
   "metadata": {
    "collapsed": false
   }
  },
  {
   "cell_type": "code",
   "execution_count": 33,
   "outputs": [
    {
     "data": {
      "text/plain": "  index        C1        C3        C4        C5     C6New\n0     A  0.221993  0.206719  0.918611  0.488411  1.837222\n1     B  0.611744  0.518418  0.296801  0.187721  0.593601\n2     C  0.080741  0.441309  0.158310  0.879937  0.316620\n3     D  0.274086  0.296080  0.628788  0.579838  1.257576\n4     E  0.599929  0.284686  0.253588  0.327564  0.507176",
      "text/html": "<div>\n<style scoped>\n    .dataframe tbody tr th:only-of-type {\n        vertical-align: middle;\n    }\n\n    .dataframe tbody tr th {\n        vertical-align: top;\n    }\n\n    .dataframe thead th {\n        text-align: right;\n    }\n</style>\n<table border=\"1\" class=\"dataframe\">\n  <thead>\n    <tr style=\"text-align: right;\">\n      <th></th>\n      <th>index</th>\n      <th>C1</th>\n      <th>C3</th>\n      <th>C4</th>\n      <th>C5</th>\n      <th>C6New</th>\n    </tr>\n  </thead>\n  <tbody>\n    <tr>\n      <th>0</th>\n      <td>A</td>\n      <td>0.221993</td>\n      <td>0.206719</td>\n      <td>0.918611</td>\n      <td>0.488411</td>\n      <td>1.837222</td>\n    </tr>\n    <tr>\n      <th>1</th>\n      <td>B</td>\n      <td>0.611744</td>\n      <td>0.518418</td>\n      <td>0.296801</td>\n      <td>0.187721</td>\n      <td>0.593601</td>\n    </tr>\n    <tr>\n      <th>2</th>\n      <td>C</td>\n      <td>0.080741</td>\n      <td>0.441309</td>\n      <td>0.158310</td>\n      <td>0.879937</td>\n      <td>0.316620</td>\n    </tr>\n    <tr>\n      <th>3</th>\n      <td>D</td>\n      <td>0.274086</td>\n      <td>0.296080</td>\n      <td>0.628788</td>\n      <td>0.579838</td>\n      <td>1.257576</td>\n    </tr>\n    <tr>\n      <th>4</th>\n      <td>E</td>\n      <td>0.599929</td>\n      <td>0.284686</td>\n      <td>0.253588</td>\n      <td>0.327564</td>\n      <td>0.507176</td>\n    </tr>\n  </tbody>\n</table>\n</div>"
     },
     "execution_count": 33,
     "metadata": {},
     "output_type": "execute_result"
    }
   ],
   "source": [
    "df = df.reset_index()\n",
    "df"
   ],
   "metadata": {
    "collapsed": false
   }
  },
  {
   "cell_type": "code",
   "execution_count": 35,
   "outputs": [
    {
     "data": {
      "text/plain": "  index        C1        C3        C4        C5     C6New  new_index\n0     A  0.221993  0.206719  0.918611  0.488411  1.837222        100\n1     B  0.611744  0.518418  0.296801  0.187721  0.593601        101\n2     C  0.080741  0.441309  0.158310  0.879937  0.316620        102\n3     D  0.274086  0.296080  0.628788  0.579838  1.257576        103\n4     E  0.599929  0.284686  0.253588  0.327564  0.507176        104",
      "text/html": "<div>\n<style scoped>\n    .dataframe tbody tr th:only-of-type {\n        vertical-align: middle;\n    }\n\n    .dataframe tbody tr th {\n        vertical-align: top;\n    }\n\n    .dataframe thead th {\n        text-align: right;\n    }\n</style>\n<table border=\"1\" class=\"dataframe\">\n  <thead>\n    <tr style=\"text-align: right;\">\n      <th></th>\n      <th>index</th>\n      <th>C1</th>\n      <th>C3</th>\n      <th>C4</th>\n      <th>C5</th>\n      <th>C6New</th>\n      <th>new_index</th>\n    </tr>\n  </thead>\n  <tbody>\n    <tr>\n      <th>0</th>\n      <td>A</td>\n      <td>0.221993</td>\n      <td>0.206719</td>\n      <td>0.918611</td>\n      <td>0.488411</td>\n      <td>1.837222</td>\n      <td>100</td>\n    </tr>\n    <tr>\n      <th>1</th>\n      <td>B</td>\n      <td>0.611744</td>\n      <td>0.518418</td>\n      <td>0.296801</td>\n      <td>0.187721</td>\n      <td>0.593601</td>\n      <td>101</td>\n    </tr>\n    <tr>\n      <th>2</th>\n      <td>C</td>\n      <td>0.080741</td>\n      <td>0.441309</td>\n      <td>0.158310</td>\n      <td>0.879937</td>\n      <td>0.316620</td>\n      <td>102</td>\n    </tr>\n    <tr>\n      <th>3</th>\n      <td>D</td>\n      <td>0.274086</td>\n      <td>0.296080</td>\n      <td>0.628788</td>\n      <td>0.579838</td>\n      <td>1.257576</td>\n      <td>103</td>\n    </tr>\n    <tr>\n      <th>4</th>\n      <td>E</td>\n      <td>0.599929</td>\n      <td>0.284686</td>\n      <td>0.253588</td>\n      <td>0.327564</td>\n      <td>0.507176</td>\n      <td>104</td>\n    </tr>\n  </tbody>\n</table>\n</div>"
     },
     "execution_count": 35,
     "metadata": {},
     "output_type": "execute_result"
    }
   ],
   "source": [
    "df['new_index'] = [100, 101, 102, 103, 104]\n",
    "df"
   ],
   "metadata": {
    "collapsed": false
   }
  },
  {
   "cell_type": "code",
   "execution_count": 36,
   "outputs": [
    {
     "data": {
      "text/plain": "          index        C1        C3        C4        C5     C6New\nnew_index                                                        \n100           A  0.221993  0.206719  0.918611  0.488411  1.837222\n101           B  0.611744  0.518418  0.296801  0.187721  0.593601\n102           C  0.080741  0.441309  0.158310  0.879937  0.316620\n103           D  0.274086  0.296080  0.628788  0.579838  1.257576\n104           E  0.599929  0.284686  0.253588  0.327564  0.507176",
      "text/html": "<div>\n<style scoped>\n    .dataframe tbody tr th:only-of-type {\n        vertical-align: middle;\n    }\n\n    .dataframe tbody tr th {\n        vertical-align: top;\n    }\n\n    .dataframe thead th {\n        text-align: right;\n    }\n</style>\n<table border=\"1\" class=\"dataframe\">\n  <thead>\n    <tr style=\"text-align: right;\">\n      <th></th>\n      <th>index</th>\n      <th>C1</th>\n      <th>C3</th>\n      <th>C4</th>\n      <th>C5</th>\n      <th>C6New</th>\n    </tr>\n    <tr>\n      <th>new_index</th>\n      <th></th>\n      <th></th>\n      <th></th>\n      <th></th>\n      <th></th>\n      <th></th>\n    </tr>\n  </thead>\n  <tbody>\n    <tr>\n      <th>100</th>\n      <td>A</td>\n      <td>0.221993</td>\n      <td>0.206719</td>\n      <td>0.918611</td>\n      <td>0.488411</td>\n      <td>1.837222</td>\n    </tr>\n    <tr>\n      <th>101</th>\n      <td>B</td>\n      <td>0.611744</td>\n      <td>0.518418</td>\n      <td>0.296801</td>\n      <td>0.187721</td>\n      <td>0.593601</td>\n    </tr>\n    <tr>\n      <th>102</th>\n      <td>C</td>\n      <td>0.080741</td>\n      <td>0.441309</td>\n      <td>0.158310</td>\n      <td>0.879937</td>\n      <td>0.316620</td>\n    </tr>\n    <tr>\n      <th>103</th>\n      <td>D</td>\n      <td>0.274086</td>\n      <td>0.296080</td>\n      <td>0.628788</td>\n      <td>0.579838</td>\n      <td>1.257576</td>\n    </tr>\n    <tr>\n      <th>104</th>\n      <td>E</td>\n      <td>0.599929</td>\n      <td>0.284686</td>\n      <td>0.253588</td>\n      <td>0.327564</td>\n      <td>0.507176</td>\n    </tr>\n  </tbody>\n</table>\n</div>"
     },
     "execution_count": 36,
     "metadata": {},
     "output_type": "execute_result"
    }
   ],
   "source": [
    "df = df.set_index('new_index')\n",
    "df"
   ],
   "metadata": {
    "collapsed": false
   }
  },
  {
   "cell_type": "code",
   "execution_count": 37,
   "outputs": [
    {
     "data": {
      "text/plain": "index           D\nC1       0.274086\nC3        0.29608\nC4       0.628788\nC5       0.579838\nC6New    1.257576\nName: 103, dtype: object"
     },
     "execution_count": 37,
     "metadata": {},
     "output_type": "execute_result"
    }
   ],
   "source": [
    "df.loc[103]"
   ],
   "metadata": {
    "collapsed": false
   }
  },
  {
   "cell_type": "code",
   "execution_count": null,
   "outputs": [],
   "source": [],
   "metadata": {
    "collapsed": false
   }
  }
 ],
 "metadata": {
  "kernelspec": {
   "display_name": "Python 3",
   "language": "python",
   "name": "python3"
  },
  "language_info": {
   "codemirror_mode": {
    "name": "ipython",
    "version": 2
   },
   "file_extension": ".py",
   "mimetype": "text/x-python",
   "name": "python",
   "nbconvert_exporter": "python",
   "pygments_lexer": "ipython2",
   "version": "2.7.6"
  }
 },
 "nbformat": 4,
 "nbformat_minor": 0
}
